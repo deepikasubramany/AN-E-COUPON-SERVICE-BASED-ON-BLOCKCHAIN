{
 "cells": [
  {
   "cell_type": "code",
   "execution_count": 75,
   "id": "e7e85a43",
   "metadata": {},
   "outputs": [
    {
     "data": {
      "text/plain": [
       "(636, 6)"
      ]
     },
     "execution_count": 75,
     "metadata": {},
     "output_type": "execute_result"
    }
   ],
   "source": [
    "import numpy as np\n",
    "import matplotlib.pyplot as plt\n",
    "from dbconnect import *\n",
    "alg1=\"RSA\"\n",
    "alg2=\"HMac\"\n",
    "alg3=\"ContractVerificationHmac\"\n",
    "alg4=\"ContractVerificationRSA\"\n",
    "sql='select * from  performance'\n",
    "rsa=0\n",
    "hmac=0\n",
    "\n",
    "cvrsalist=[]\n",
    "cvhmaclist=[]\n",
    "result=recoredselect(sql)\n",
    "for inde,i in enumerate(result):\n",
    "    if(i[1]==alg1):\n",
    "        rsa=int(i[2])\n",
    "    if(i[1]==alg2):\n",
    "        hmac=int(i[2])\n",
    "\n",
    "# Dataset generation\n",
    "rsa,hmac"
   ]
  },
  {
   "cell_type": "code",
   "execution_count": 76,
   "id": "b92a6c00",
   "metadata": {},
   "outputs": [
    {
     "data": {
      "text/plain": [
       "[25583, 187399, 1971734]"
      ]
     },
     "execution_count": 76,
     "metadata": {},
     "output_type": "execute_result"
    }
   ],
   "source": [
    "\n",
    "cvrsa=0\n",
    "cvhmac=0\n",
    "query=[]\n",
    "query.append('select * from  performance where simulation=10')\n",
    "query.append('select * from  performance where simulation=100')\n",
    "query.append('select * from  performance where simulation=1000')\n",
    "for sql in query:\n",
    "    result=recoredselect(sql)\n",
    "    for inde,i in enumerate(result):\n",
    "        if(i[1]==alg1):\n",
    "            rsa=int(i[2])\n",
    "        if(i[1]==alg2):\n",
    "            hmac=int(i[2])\n",
    "        if(i[1]==alg3):\n",
    "            cvhmac=int(i[2])\n",
    "        if(i[1]==alg4):\n",
    "            cvrsa=int(i[2])\n",
    "    cvrsalist.append(cvrsa)\n",
    "    cvhmaclist.append(cvhmac)\n",
    "cvrsalist"
   ]
  },
  {
   "cell_type": "code",
   "execution_count": 77,
   "id": "cf35374b",
   "metadata": {},
   "outputs": [
    {
     "data": {
      "image/png": "[encoded data removed]",
      "text/plain": [
       "<Figure size 432x288 with 1 Axes>"
      ]
     },
     "metadata": {
      "needs_background": "light"
     },
     "output_type": "display_data"
    },
    {
     "data": {
      "text/plain": [
       "([25583, 187399, 1971734], [664, 4858, 42429])"
      ]
     },
     "execution_count": 77,
     "metadata": {},
     "output_type": "execute_result"
    }
   ],
   "source": [
    "import numpy as np\n",
    "import matplotlib.pyplot as plt\n",
    "\n",
    "# data to plot\n",
    "n_groups = len(cvrsalist)\n",
    "means_frank = cvrsalist\n",
    "means_guido = cvhmaclist\n",
    "\n",
    "# create plot\n",
    "fig, ax = plt.subplots()\n",
    "index = np.arange(n_groups)\n",
    "bar_width = 0.35\n",
    "opacity = 0.8\n",
    "\n",
    "rects1 = plt.bar(index, means_frank, bar_width,\n",
    "alpha=opacity,\n",
    "color='b',\n",
    "label='ContractwithRSA')\n",
    "\n",
    "rects2 = plt.bar(index + bar_width, means_guido, bar_width,\n",
    "alpha=opacity,\n",
    "color='g',\n",
    "label='ContractwithHmac')\n",
    "\n",
    "plt.xlabel('No of Transaction')\n",
    "plt.ylabel('Time(MilliSeconds)')\n",
    "plt.title('Contract Verification')\n",
    "plt.xticks(index + bar_width, ('10', '100', '1000'))\n",
    "plt.legend()\n",
    "\n",
    "plt.tight_layout()\n",
    "plt.show()\n",
    "means_frank,means_guido"
   ]
  },
  {
   "cell_type": "code",
   "execution_count": 78,
   "id": "ef49ca4e",
   "metadata": {},
   "outputs": [
    {
     "data": {
      "image/png": "[encoded data removed]",
      "text/plain": [
       "<Figure size 432x288 with 1 Axes>"
      ]
     },
     "metadata": {
      "needs_background": "light"
     },
     "output_type": "display_data"
    },
    {
     "data": {
      "text/plain": [
       "([19223, 123799, 1335734], [604, 4258, 36429])"
      ]
     },
     "execution_count": 78,
     "metadata": {},
     "output_type": "execute_result"
    }
   ],
   "source": [
    "import numpy as np\n",
    "import matplotlib.pyplot as plt\n",
    "\n",
    "# data to plot\n",
    "n_groups = len(cvrsalist)\n",
    "info=[10,100,1000]\n",
    "means_frank = [cvrsalist[i]-(rsa*info[i]) for i in range(len(cvrsalist))]\n",
    "means_guido =[cvhmaclist[i]-(hmac*info[i]) for i in range(len(cvhmaclist))] \n",
    "\n",
    "# create plot\n",
    "fig, ax = plt.subplots()\n",
    "index = np.arange(n_groups)\n",
    "bar_width = 0.35\n",
    "opacity = 0.8\n",
    "\n",
    "rects1 = plt.bar(index, means_frank, bar_width,\n",
    "alpha=opacity,\n",
    "color='b',\n",
    "label='RSA')\n",
    "\n",
    "rects2 = plt.bar(index + bar_width, means_guido, bar_width,\n",
    "alpha=opacity,\n",
    "color='g',\n",
    "label='HMAC')\n",
    "\n",
    "plt.xlabel('No of Transaction')\n",
    "plt.ylabel('Time(MilliSeconds)')\n",
    "plt.title('Data Accessing')\n",
    "plt.xticks(index + bar_width, ('10', '100', '1000'))\n",
    "plt.legend()\n",
    "\n",
    "plt.tight_layout()\n",
    "plt.show()\n",
    "means_frank,means_guido\n"
   ]
  },
  {
   "cell_type": "code",
   "execution_count": 79,
   "id": "04a54678",
   "metadata": {},
   "outputs": [
    {
     "name": "stdout",
     "output_type": "stream",
     "text": [
      "Processing Time for RSA : 636\n",
      "--------------------------------------\n",
      "originalvalue : 25583\n",
      "Subtraction Value: 6360\n",
      "After Subtraction: 19223\n",
      "=============================================\n",
      "originalvalue : 187399\n",
      "Subtraction Value: 63600\n",
      "After Subtraction: 123799\n",
      "=============================================\n",
      "originalvalue : 1971734\n",
      "Subtraction Value: 636000\n",
      "After Subtraction: 1335734\n",
      "=============================================\n",
      "Graph Display Value\n"
     ]
    },
    {
     "data": {
      "text/plain": [
       "[19223, 123799, 1335734]"
      ]
     },
     "execution_count": 79,
     "metadata": {},
     "output_type": "execute_result"
    }
   ],
   "source": [
    "print(\"Processing Time for RSA : \"+str(rsa))\n",
    "print(\"--------------------------------------\")\n",
    "for i in range(len(cvrsalist)):\n",
    "    print(\"originalvalue : \"+ str(cvrsalist[i]))\n",
    "    subValue=rsa*info[i]\n",
    "    print(\"Subtraction Value: \"+str(subValue))\n",
    "    afterModification=cvrsalist[i]-subValue\n",
    "    print(\"After Subtraction: \"+str(afterModification))\n",
    "    print(\"=============================================\")\n",
    "print(\"Graph Display Value\")\n",
    "means_frank"
   ]
  },
  {
   "cell_type": "code",
   "execution_count": 80,
   "id": "e27383e4",
   "metadata": {},
   "outputs": [
    {
     "name": "stdout",
     "output_type": "stream",
     "text": [
      "Processing Time for Hmac : 6\n",
      "--------------------------------------\n",
      "originalvalue : 664\n",
      "Subtraction Value: 60\n",
      "After Subtraction: 604\n",
      "=============================================\n",
      "originalvalue : 4858\n",
      "Subtraction Value: 600\n",
      "After Subtraction: 4258\n",
      "=============================================\n",
      "originalvalue : 42429\n",
      "Subtraction Value: 6000\n",
      "After Subtraction: 36429\n",
      "=============================================\n",
      "Graph Display Result\n"
     ]
    },
    {
     "data": {
      "text/plain": [
       "[604, 4258, 36429]"
      ]
     },
     "execution_count": 80,
     "metadata": {},
     "output_type": "execute_result"
    }
   ],
   "source": [
    "print(\"Processing Time for Hmac : \"+str(hmac))\n",
    "print(\"--------------------------------------\")\n",
    "for i in range(len(cvhmaclist)):\n",
    "    print(\"originalvalue : \"+ str(cvhmaclist[i]))\n",
    "    subValue=hmac*info[i]\n",
    "    print(\"Subtraction Value: \"+str(subValue))\n",
    "    afterModification=cvhmaclist[i]-subValue\n",
    "    print(\"After Subtraction: \"+str(afterModification))\n",
    "    print(\"=============================================\")\n",
    "print(\"Graph Display Result\")\n",
    "means_guido"
   ]
  },
  {
   "cell_type": "code",
   "execution_count": 81,
   "id": "635fc25f",
   "metadata": {},
   "outputs": [
    {
     "name": "stdout",
     "output_type": "stream",
     "text": [
      "{'RSA': 636, 'HMac': 6}\n"
     ]
    },
    {
     "data": {
      "image/png": "[encoded data removed]",
      "text/plain": [
       "<Figure size 360x288 with 1 Axes>"
      ]
     },
     "metadata": {
      "needs_background": "light"
     },
     "output_type": "display_data"
    },
    {
     "data": {
      "text/plain": [
       "(636, 6)"
      ]
     },
     "execution_count": 81,
     "metadata": {},
     "output_type": "execute_result"
    }
   ],
   "source": [
    "data_dict = {'RSA':rsa, 'HMac':hmac}\n",
    "print(data_dict)\n",
    "courses = list(data_dict.keys())\n",
    "values = list(data_dict.values())\n",
    "fig = plt.figure(figsize = (5, 4))\n",
    "#  Bar plot\n",
    "plt.bar(courses, values, color =['blue','green'],\n",
    "        width = 0.3)\n",
    "plt.xlabel(\"Signature Signin\")\n",
    "plt.ylabel(\"Time(Millisecond) \")\n",
    "plt.title(\" RSA vs HMac\")\n",
    "plt.show()\n",
    "rsa,hmac"
   ]
  }
 ],
 "metadata": {
  "kernelspec": {
   "display_name": "Python 3 (ipykernel)",
   "language": "python",
   "name": "python3"
  },
  "language_info": {
   "codemirror_mode": {
    "name": "ipython",
    "version": 3
   },
   "file_extension": ".py",
   "mimetype": "text/x-python",
   "name": "python",
   "nbconvert_exporter": "python",
   "pygments_lexer": "ipython3",
   "version": "3.9.7"
  }
 },
 "nbformat": 4,
 "nbformat_minor": 5
}
